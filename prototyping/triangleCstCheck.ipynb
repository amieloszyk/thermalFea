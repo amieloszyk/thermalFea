{
 "cells": [
  {
   "cell_type": "code",
   "execution_count": 8,
   "metadata": {},
   "outputs": [],
   "source": [
    "import numpy as np\n",
    "from matplotlib import pyplot as plt"
   ]
  },
  {
   "cell_type": "code",
   "execution_count": 5,
   "metadata": {},
   "outputs": [
    {
     "data": {
      "text/plain": [
       "[<matplotlib.lines.Line2D at 0x11b0c4c88>]"
      ]
     },
     "execution_count": 5,
     "metadata": {},
     "output_type": "execute_result"
    },
    {
     "data": {
      "image/png": "[encoded data removed]",
      "text/plain": [
       "<Figure size 432x288 with 1 Axes>"
      ]
     },
     "metadata": {
      "needs_background": "light"
     },
     "output_type": "display_data"
    }
   ],
   "source": [
    "coord1 = [1.0,0.0]\n",
    "coord2 = [3.0,2.0]\n",
    "coord3 = [-1.0,1.0]\n",
    "coordAll = np.array([coord1,coord2,coord3])\n",
    "\n",
    "natCoord1 = [1.0,0.0,0.0]\n",
    "natCoord2 = [0.0,1.0,0.0]\n",
    "natCoord3 = [0.0,0.0,1.0]\n",
    "natCoordAll = np.array([natCoord1,natCoord2,natCoord3])\n",
    "\n",
    "plt.plot(coordAll[:,0],coordAll[:,1],'o-')"
   ]
  },
  {
   "cell_type": "code",
   "execution_count": 12,
   "metadata": {},
   "outputs": [
    {
     "name": "stdout",
     "output_type": "stream",
     "text": [
      "6.0 6.0\n",
      "3.0 3.0\n",
      "[[ 0.83333333  0.16666667 -0.66666667]\n",
      " [-0.16666667  0.16666667  0.33333333]\n",
      " [ 0.33333333 -0.33333333  0.33333333]]\n",
      "[[ 0.83333333  0.16666667 -0.66666667]\n",
      " [-0.16666667  0.16666667  0.33333333]\n",
      " [ 0.33333333 -0.33333333  0.33333333]]\n"
     ]
    }
   ],
   "source": [
    "aMat = np.matrix([[1.0,1.0,1.0],coordAll[:,0],coordAll[:,1]])\n",
    "\n",
    "detA = np.linalg.det(aMat)\n",
    "area = detA/2.0\n",
    "invA = np.linalg.inv(aMat)\n",
    "\n",
    "detA_slide = (coordAll[1,0]-coordAll[0,0])*(coordAll[2,1]-coordAll[0,1])\n",
    "detA_slide -= (coordAll[2,0]-coordAll[0,0])*(coordAll[1,1]-coordAll[0,1])\n",
    "area_slide = detA_slide/2.0\n",
    "invA_slide = np.matrix([\n",
    "    [coord2[0]*coord3[1] - coord3[0]*coord2[1], coord2[1]-coord3[1], coord3[0]-coord2[0]],\n",
    "    [coord3[0]*coord1[1] - coord1[0]*coord3[1], coord3[1]-coord1[1], coord1[0]-coord3[0]],\n",
    "    [coord1[0]*coord2[1] - coord2[0]*coord1[1], coord1[1]-coord2[1], coord2[0]-coord1[0]]\n",
    "    ])\n",
    "invA_slide /= detA\n",
    "\n",
    "print(detA,detA_slide)\n",
    "print(area,area_slide)\n",
    "print(invA)\n",
    "print(invA_slide)"
   ]
  },
  {
   "cell_type": "code",
   "execution_count": null,
   "metadata": {},
   "outputs": [],
   "source": [
    "Nt = [eta1] = [ia00,ia01,ia02]*[1] = [ia00 + ia01*x + ia02*y]\n",
    "     [eta2]   [ia10,ia11,ia12] [x]   [ia10 + ia11*x + ia12*y]\n",
    "     [eta3]   [ia20,ia21,ia22] [y]   [ia20 + ia21*x + ia22*y]\n",
    "\n",
    "B = grad(N) = [dEta1/dx, dEta2/dx, dEta3/dx] = [ia01, ia11, ia21]\n",
    "              [dEta1/dy, dEta2/dy, dEta3/dy]   [ia02, ia12, ia22]\n",
    "\n",
    "The derivatives are constant -- >\"Constant strain element\"\n",
    "    \n",
    "K = int(Bt*t*D*B)dA\n",
    "D = [kxx,kxy]\n",
    "    [kyx,kyy]"
   ]
  },
  {
   "cell_type": "code",
   "execution_count": 23,
   "metadata": {},
   "outputs": [
    {
     "name": "stdout",
     "output_type": "stream",
     "text": [
      "B: [[ 0.16666667  0.16666667 -0.33333333]\n",
      " [-0.66666667  0.33333333  0.33333333]]\n",
      "B_T: [[ 0.16666667 -0.66666667]\n",
      " [ 0.16666667  0.33333333]\n",
      " [-0.33333333  0.33333333]]\n",
      "B_T*t*D: [[ 1.01833333 -4.42      ]\n",
      " [ 1.01833333  2.21      ]\n",
      " [-2.03666667  2.21      ]]\n",
      "B_T*t*D*B: [[ 3.11638889 -1.30361111 -1.81277778]\n",
      " [-1.30361111  0.90638889  0.39722222]\n",
      " [-1.81277778  0.39722222  1.41555556]]\n"
     ]
    }
   ],
   "source": [
    "bMat = np.matrix([\n",
    "    [invA[0,1],invA[1,1],invA[2,1]],\n",
    "    [invA[0,2],invA[1,2],invA[2,2]]\n",
    "])\n",
    "\n",
    "dMat = np.matrix([[4.7,0.0],[0.0,5.1]])\n",
    "t = 1.3"
   ]
  },
  {
   "cell_type": "code",
   "execution_count": 20,
   "metadata": {},
   "outputs": [
    {
     "name": "stdout",
     "output_type": "stream",
     "text": [
      "[[ 9.34916667 -3.91083333 -5.43833333]\n",
      " [-3.91083333  2.71916667  1.19166667]\n",
      " [-5.43833333  1.19166667  4.24666667]]\n",
      "\n",
      "Diff fro slide:\n",
      " [[-5.00333333e-02 -3.33333333e-05 -3.33333333e-05]\n",
      " [-3.33333333e-05 -3.33333333e-05 -3.33333333e-05]\n",
      " [-1.08766333e+01 -3.33333333e-05 -3.33333333e-05]]\n"
     ]
    }
   ],
   "source": [
    "kNoInt = bMat.transpose()*t*dMat*bMat\n",
    "kMat = kNoInt*area\n",
    "print(kMat)\n",
    "\n",
    "kGivenInSlide = np.matrix([\n",
    "    [9.3992, -3.9108, -5.4383],\n",
    "    [-3.9108, 2.7192, 1.1917],\n",
    "    [5.4383, 1.1917, 4.2467]\n",
    "])\n",
    "\n",
    "print(\"\\nDiff from slide:\\n\",kMat-kGivenInSlide)"
   ]
  },
  {
   "cell_type": "code",
   "execution_count": null,
   "metadata": {},
   "outputs": [],
   "source": []
  }
 ],
 "metadata": {
  "kernelspec": {
   "display_name": "Python 3",
   "language": "python",
   "name": "python3"
  },
  "language_info": {
   "codemirror_mode": {
    "name": "ipython",
    "version": 3
   },
   "file_extension": ".py",
   "mimetype": "text/x-python",
   "name": "python",
   "nbconvert_exporter": "python",
   "pygments_lexer": "ipython3",
   "version": "3.7.1"
  }
 },
 "nbformat": 4,
 "nbformat_minor": 2
}
